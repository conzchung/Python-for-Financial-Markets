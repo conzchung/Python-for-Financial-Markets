{
 "cells": [
  {
   "cell_type": "markdown",
   "metadata": {},
   "source": [
    "### What is risk management?\n",
    "Risk management is the identification, assessment, and prioritization of risks\n",
    "followed by coordinated and economical application of resources to minimize,\n",
    "monitor, and control the probability and/or impact of unfortunate events or to\n",
    "maximize the realization of opportunities.\n",
    "\n",
    "*Hubbard, Douglas (2009). The Failure of Risk Management: Why It's Broken and\n",
    "How to Fix It. John Wiley & Sons.*\n",
    "\n",
    "- Known risks: to identify and make them easy to understand\n",
    "- Unknown risks\n",
    "\n",
    "#### Coherence of a risk metric:\n",
    "- Monotonicity\n",
    "- Subadditivity\n",
    "- Positive Homogeneity\n",
    "- Translational Invariance\n"
   ]
  },
  {
   "cell_type": "markdown",
   "metadata": {},
   "source": [
    "#### Market risk\n",
    "The risk of loss for a UCITS or AIF resulting from fluctuation in the market value of positions in the fund's portfolio attributable to changes in market variables, such as interest rates, foreign exchange rates, equity and commodity prices or an issuer's credit worthiness (*by FCA*).\n",
    "\n",
    "##### VaR\n",
    "what is the maximum expected loss over a specified horizon given a specified level of signififcance; e.g. 20-day VaR 10% with 99% confidence interval\n",
    "\n",
    "##### Historical VaR"
   ]
  },
  {
   "cell_type": "code",
   "execution_count": 1,
   "metadata": {},
   "outputs": [],
   "source": [
    "# Import required libraries\n",
    "import pandas as pd\n",
    "import numpy as np\n",
    "import yfinance as yf\n",
    "import matplotlib.pyplot as plt\n",
    "\n",
    "# Ignore warnings\n",
    "import warnings\n",
    "warnings.filterwarnings('ignore')"
   ]
  },
  {
   "cell_type": "code",
   "execution_count": 2,
   "metadata": {},
   "outputs": [],
   "source": [
    "spx = yf.download('^GSPC', start='1970-01-01', end='2020-11-30', progress=False)['Adj Close']\n",
    "spx_ret = spx.pct_change().dropna()"
   ]
  },
  {
   "cell_type": "code",
   "execution_count": 3,
   "metadata": {},
   "outputs": [
    {
     "data": {
      "text/plain": [
       "0.11281536413192207"
      ]
     },
     "execution_count": 3,
     "metadata": {},
     "output_type": "execute_result"
    }
   ],
   "source": [
    "historical_var = -np.percentile(spx_ret, 0.01)\n",
    "historical_var"
   ]
  },
  {
   "cell_type": "code",
   "execution_count": 4,
   "metadata": {},
   "outputs": [
    {
     "data": {
      "text/plain": [
       "0.07103226239857728"
      ]
     },
     "execution_count": 4,
     "metadata": {},
     "output_type": "execute_result"
    }
   ],
   "source": [
    "(lambda r, level:-np.percentile(r, level))(spx_ret['2020'], 1)"
   ]
  },
  {
   "cell_type": "code",
   "execution_count": 5,
   "metadata": {},
   "outputs": [
    {
     "data": {
      "image/png": "[encoded data removed]",
      "text/plain": [
       "<Figure size 720x360 with 1 Axes>"
      ]
     },
     "metadata": {
      "needs_background": "light"
     },
     "output_type": "display_data"
    }
   ],
   "source": [
    "scalled_ret = (spx_ret - spx_ret.mean())/spx_ret.std()\n",
    "\n",
    "# Define bins\n",
    "x = np.linspace(scalled_ret.min(), scalled_ret.max(), 200)\n",
    "\n",
    "# Calculate normal probability density function\n",
    "y = (1/np.sqrt(2*np.pi)*np.exp(-0.5*x**2))\n",
    "\n",
    "# Plot histogram of scaled returns\n",
    "plt.figure(figsize=(10,5))\n",
    "plt.hist(scalled_ret, bins=200, density=True, color = 'blue', label = 'Empirical', alpha=1)\n",
    "plt.axvline(np.percentile(scalled_ret,1), color='r', linestyle='dashed', linewidth=2)\n",
    "plt.axvline(np.percentile(scalled_ret,99), color='r', linestyle='dashed', linewidth=2)\n",
    "\n",
    "# Plot norm pdf\n",
    "plt.plot(x, y, color = 'orange', label = 'Normal')\n",
    "\n",
    "# Set x and y axis limits\n",
    "plt.xlim(-4,4)\n",
    "plt.ylim(0,0.7)\n",
    "\n",
    "plt.title('Empirical vs Normal Distribution')\n",
    "plt.legend();"
   ]
  },
  {
   "cell_type": "code",
   "execution_count": 6,
   "metadata": {},
   "outputs": [
    {
     "data": {
      "text/plain": [
       "<matplotlib.lines.Line2D at 0x2a54f5b9608>"
      ]
     },
     "execution_count": 6,
     "metadata": {},
     "output_type": "execute_result"
    },
    {
     "data": {
      "image/png": "[encoded data removed]",
      "text/plain": [
       "<Figure size 864x360 with 1 Axes>"
      ]
     },
     "metadata": {
      "needs_background": "light"
     },
     "output_type": "display_data"
    }
   ],
   "source": [
    "fig = plt.figure(figsize=(12,5))\n",
    "plt.hist(spx_ret, bins=50, histtype='stepfilled', color='orange', alpha=1);\n",
    "plt.axvline(np.percentile(spx_ret,1), color='r', linestyle='dashed', linewidth=2)\n",
    "plt.axvline(np.percentile(spx_ret,99), color='r', linestyle='dashed', linewidth=2)"
   ]
  },
  {
   "cell_type": "code",
   "execution_count": 7,
   "metadata": {},
   "outputs": [
    {
     "data": {
      "text/plain": [
       "0.0"
      ]
     },
     "execution_count": 7,
     "metadata": {},
     "output_type": "execute_result"
    }
   ],
   "source": [
    "import scipy.stats\n",
    "statistic, pvalue = scipy.stats.jarque_bera(spx_ret)\n",
    "pvalue"
   ]
  },
  {
   "cell_type": "code",
   "execution_count": 8,
   "metadata": {},
   "outputs": [
    {
     "data": {
      "text/plain": [
       "0.02919699413978718"
      ]
     },
     "execution_count": 8,
     "metadata": {},
     "output_type": "execute_result"
    }
   ],
   "source": [
    "-np.percentile(spx_ret, 1)"
   ]
  },
  {
   "cell_type": "code",
   "execution_count": 9,
   "metadata": {},
   "outputs": [],
   "source": [
    "period = 520\n",
    "historical_var = []\n",
    "for i in range(spx_ret.shape[0]-520):\n",
    "    x = spx_ret.iloc[i:i+period]\n",
    "    historical_var.append(-np.percentile(x, 1))"
   ]
  },
  {
   "cell_type": "code",
   "execution_count": 10,
   "metadata": {},
   "outputs": [
    {
     "data": {
      "text/html": [
       "<div>\n",
       "<style scoped>\n",
       "    .dataframe tbody tr th:only-of-type {\n",
       "        vertical-align: middle;\n",
       "    }\n",
       "\n",
       "    .dataframe tbody tr th {\n",
       "        vertical-align: top;\n",
       "    }\n",
       "\n",
       "    .dataframe thead th {\n",
       "        text-align: right;\n",
       "    }\n",
       "</style>\n",
       "<table border=\"1\" class=\"dataframe\">\n",
       "  <thead>\n",
       "    <tr style=\"text-align: right;\">\n",
       "      <th></th>\n",
       "      <th>Daily VaR</th>\n",
       "    </tr>\n",
       "    <tr>\n",
       "      <th>Date</th>\n",
       "      <th></th>\n",
       "    </tr>\n",
       "  </thead>\n",
       "  <tbody>\n",
       "    <tr>\n",
       "      <th>1972-01-21</th>\n",
       "      <td>0.018205</td>\n",
       "    </tr>\n",
       "    <tr>\n",
       "      <th>1972-01-24</th>\n",
       "      <td>0.018205</td>\n",
       "    </tr>\n",
       "    <tr>\n",
       "      <th>1972-01-25</th>\n",
       "      <td>0.018205</td>\n",
       "    </tr>\n",
       "    <tr>\n",
       "      <th>1972-01-26</th>\n",
       "      <td>0.018205</td>\n",
       "    </tr>\n",
       "    <tr>\n",
       "      <th>1972-01-27</th>\n",
       "      <td>0.018205</td>\n",
       "    </tr>\n",
       "  </tbody>\n",
       "</table>\n",
       "</div>"
      ],
      "text/plain": [
       "            Daily VaR\n",
       "Date                 \n",
       "1972-01-21   0.018205\n",
       "1972-01-24   0.018205\n",
       "1972-01-25   0.018205\n",
       "1972-01-26   0.018205\n",
       "1972-01-27   0.018205"
      ]
     },
     "execution_count": 10,
     "metadata": {},
     "output_type": "execute_result"
    }
   ],
   "source": [
    "daily_historical_var = pd.DataFrame({'Daily VaR':historical_var}, index=spx_ret.index[520:])\n",
    "daily_historical_var.head()"
   ]
  },
  {
   "cell_type": "code",
   "execution_count": 11,
   "metadata": {},
   "outputs": [
    {
     "data": {
      "text/plain": [
       "<matplotlib.axes._subplots.AxesSubplot at 0x2a54be20a88>"
      ]
     },
     "execution_count": 11,
     "metadata": {},
     "output_type": "execute_result"
    },
    {
     "data": {
      "image/png": "[encoded data removed]",
      "text/plain": [
       "<Figure size 432x288 with 1 Axes>"
      ]
     },
     "metadata": {
      "needs_background": "light"
     },
     "output_type": "display_data"
    }
   ],
   "source": [
    "daily_historical_var.plot(title='Daily histoical VaR of SPX with 520 days of obsevarion period')"
   ]
  },
  {
   "cell_type": "markdown",
   "metadata": {},
   "source": [
    "##### Parametric VaR\n",
    "$$\n",
    "VaR_{Parametric}=\\mu-z\\sigma\n",
    "$$"
   ]
  },
  {
   "cell_type": "code",
   "execution_count": 12,
   "metadata": {},
   "outputs": [
    {
     "data": {
      "text/plain": [
       "0.024867867892732504"
      ]
     },
     "execution_count": 12,
     "metadata": {},
     "output_type": "execute_result"
    }
   ],
   "source": [
    "from scipy.stats import norm\n",
    "-(spx_ret.mean()+norm.ppf(.01)*spx_ret.std(ddof=0))"
   ]
  },
  {
   "cell_type": "code",
   "execution_count": 13,
   "metadata": {},
   "outputs": [],
   "source": [
    "def parametric_var(ret):\n",
    "    return -(ret.mean()+norm.ppf(0.01)*ret.std(ddof=1))"
   ]
  },
  {
   "cell_type": "code",
   "execution_count": 14,
   "metadata": {},
   "outputs": [
    {
     "data": {
      "text/html": [
       "<div>\n",
       "<style scoped>\n",
       "    .dataframe tbody tr th:only-of-type {\n",
       "        vertical-align: middle;\n",
       "    }\n",
       "\n",
       "    .dataframe tbody tr th {\n",
       "        vertical-align: top;\n",
       "    }\n",
       "\n",
       "    .dataframe thead th {\n",
       "        text-align: right;\n",
       "    }\n",
       "</style>\n",
       "<table border=\"1\" class=\"dataframe\">\n",
       "  <thead>\n",
       "    <tr style=\"text-align: right;\">\n",
       "      <th></th>\n",
       "      <th>VaR</th>\n",
       "    </tr>\n",
       "    <tr>\n",
       "      <th>Date</th>\n",
       "      <th></th>\n",
       "    </tr>\n",
       "  </thead>\n",
       "  <tbody>\n",
       "    <tr>\n",
       "      <th>1972-01-21</th>\n",
       "      <td>0.018493</td>\n",
       "    </tr>\n",
       "    <tr>\n",
       "      <th>1972-01-24</th>\n",
       "      <td>0.018518</td>\n",
       "    </tr>\n",
       "    <tr>\n",
       "      <th>1972-01-25</th>\n",
       "      <td>0.018510</td>\n",
       "    </tr>\n",
       "    <tr>\n",
       "      <th>1972-01-26</th>\n",
       "      <td>0.018516</td>\n",
       "    </tr>\n",
       "    <tr>\n",
       "      <th>1972-01-27</th>\n",
       "      <td>0.018514</td>\n",
       "    </tr>\n",
       "  </tbody>\n",
       "</table>\n",
       "</div>"
      ],
      "text/plain": [
       "                 VaR\n",
       "Date                \n",
       "1972-01-21  0.018493\n",
       "1972-01-24  0.018518\n",
       "1972-01-25  0.018510\n",
       "1972-01-26  0.018516\n",
       "1972-01-27  0.018514"
      ]
     },
     "execution_count": 14,
     "metadata": {},
     "output_type": "execute_result"
    }
   ],
   "source": [
    "pd.DataFrame({'VaR':spx_ret.rolling(520).apply(parametric_var).dropna().iloc[:-1]}, index=spx_ret.index[520:]).head()"
   ]
  },
  {
   "cell_type": "code",
   "execution_count": 15,
   "metadata": {},
   "outputs": [
    {
     "data": {
      "text/plain": [
       "<matplotlib.axes._subplots.AxesSubplot at 0x2a54f4be1c8>"
      ]
     },
     "execution_count": 15,
     "metadata": {},
     "output_type": "execute_result"
    },
    {
     "data": {
      "image/png": "[encoded data removed]",
      "text/plain": [
       "<Figure size 432x288 with 1 Axes>"
      ]
     },
     "metadata": {
      "needs_background": "light"
     },
     "output_type": "display_data"
    }
   ],
   "source": [
    "period = 520\n",
    "parametric_var = []\n",
    "for i in range(spx_ret.shape[0]-520):\n",
    "    x = spx_ret.iloc[i:i+period]\n",
    "    parametric_var.append(-(x.mean()+norm.ppf(.01)*x.std(ddof=1)))\n",
    "\n",
    "daily_parametric_var = pd.DataFrame({'Daily VaR':parametric_var}, index=spx_ret.index[520:])\n",
    "daily_parametric_var.plot(title='Daily parametric VaR of SPX with 520 days of obsevarion period')"
   ]
  },
  {
   "cell_type": "markdown",
   "metadata": {},
   "source": [
    "##### Monte Carlo simulated VaR"
   ]
  },
  {
   "cell_type": "code",
   "execution_count": 16,
   "metadata": {},
   "outputs": [
    {
     "data": {
      "text/plain": [
       "-0.02512197414347348"
      ]
     },
     "execution_count": 16,
     "metadata": {},
     "output_type": "execute_result"
    }
   ],
   "source": [
    "n_sims = 10000\n",
    "sim_returns = np.random.normal(spx_ret.mean(), spx_ret.std(), n_sims)\n",
    "np.percentile(sim_returns, 1)"
   ]
  },
  {
   "cell_type": "code",
   "execution_count": 17,
   "metadata": {},
   "outputs": [
    {
     "data": {
      "text/plain": [
       "<matplotlib.axes._subplots.AxesSubplot at 0x2a54be548c8>"
      ]
     },
     "execution_count": 17,
     "metadata": {},
     "output_type": "execute_result"
    },
    {
     "data": {
      "image/png": "[encoded data removed]",
      "text/plain": [
       "<Figure size 432x288 with 1 Axes>"
      ]
     },
     "metadata": {
      "needs_background": "light"
     },
     "output_type": "display_data"
    }
   ],
   "source": [
    "period = 520\n",
    "MC_simulated_var = []\n",
    "for i in range(spx_ret.shape[0]-520):\n",
    "    x = spx_ret.iloc[i:i+period]\n",
    "    MC_simulated_var.append(-(np.percentile(np.random.normal(x.mean(), x.std(), n_sims), 1)))\n",
    "\n",
    "daily_MC_simulated_var = pd.DataFrame({'Daily VaR':MC_simulated_var}, index=spx_ret.index[520:])\n",
    "daily_MC_simulated_var.plot(title='Daily MC simulated VaR of SPX with 520 days of obsevarion period')"
   ]
  },
  {
   "cell_type": "code",
   "execution_count": 18,
   "metadata": {},
   "outputs": [
    {
     "data": {
      "text/plain": [
       "-0.016305698688906082"
      ]
     },
     "execution_count": 18,
     "metadata": {},
     "output_type": "execute_result"
    }
   ],
   "source": [
    "np.percentile(np.random.gumbel(spx_ret.mean(), spx_ret.std(), n_sims),1)"
   ]
  },
  {
   "cell_type": "code",
   "execution_count": 19,
   "metadata": {},
   "outputs": [
    {
     "data": {
      "text/plain": [
       "<matplotlib.axes._subplots.AxesSubplot at 0x2a54bb7b588>"
      ]
     },
     "execution_count": 19,
     "metadata": {},
     "output_type": "execute_result"
    },
    {
     "data": {
      "image/png": "[encoded data removed]",
      "text/plain": [
       "<Figure size 432x288 with 1 Axes>"
      ]
     },
     "metadata": {
      "needs_background": "light"
     },
     "output_type": "display_data"
    }
   ],
   "source": [
    "period = 520\n",
    "MC_simulated_fattailed_var = []\n",
    "for i in range(spx_ret.shape[0]-520):\n",
    "    x = spx_ret.iloc[i:i+period]\n",
    "    MC_simulated_fattailed_var.append(-(np.percentile(np.random.gumbel(x.mean(), x.std(), n_sims),1)))\n",
    "\n",
    "daily_MC_simulated_fattailed_var = pd.DataFrame({'Daily VaR':MC_simulated_fattailed_var}, index=spx_ret.index[520:])\n",
    "daily_MC_simulated_fattailed_var.plot(title='Daily MC simulated fat-tailed VaR of SPX with 520 days of obsevarion period')"
   ]
  },
  {
   "cell_type": "code",
   "execution_count": 20,
   "metadata": {},
   "outputs": [],
   "source": [
    "VaR = pd.DataFrame()"
   ]
  },
  {
   "cell_type": "code",
   "execution_count": 21,
   "metadata": {},
   "outputs": [
    {
     "data": {
      "text/plain": [
       "<matplotlib.axes._subplots.AxesSubplot at 0x2a550689e88>"
      ]
     },
     "execution_count": 21,
     "metadata": {},
     "output_type": "execute_result"
    },
    {
     "data": {
      "image/png": "[encoded data removed]",
      "text/plain": [
       "<Figure size 1080x360 with 1 Axes>"
      ]
     },
     "metadata": {
      "needs_background": "light"
     },
     "output_type": "display_data"
    }
   ],
   "source": [
    "VaR['Historical VaR'] = daily_historical_var['Daily VaR']\n",
    "VaR['Parametric VaR'] = daily_parametric_var['Daily VaR']\n",
    "VaR['MC simulated VaR'] = daily_MC_simulated_var['Daily VaR']\n",
    "VaR['MC simulated fat-tailed VaR'] = daily_MC_simulated_fattailed_var['Daily VaR']\n",
    "VaR.plot(figsize=(15,5))"
   ]
  },
  {
   "cell_type": "code",
   "execution_count": 22,
   "metadata": {},
   "outputs": [
    {
     "data": {
      "text/html": [
       "<div>\n",
       "<style scoped>\n",
       "    .dataframe tbody tr th:only-of-type {\n",
       "        vertical-align: middle;\n",
       "    }\n",
       "\n",
       "    .dataframe tbody tr th {\n",
       "        vertical-align: top;\n",
       "    }\n",
       "\n",
       "    .dataframe thead th {\n",
       "        text-align: right;\n",
       "    }\n",
       "</style>\n",
       "<table border=\"1\" class=\"dataframe\">\n",
       "  <thead>\n",
       "    <tr style=\"text-align: right;\">\n",
       "      <th></th>\n",
       "      <th>Historical VaR</th>\n",
       "      <th>Parametric VaR</th>\n",
       "      <th>MC simulated VaR</th>\n",
       "      <th>MC simulated fat-tailed VaR</th>\n",
       "      <th>SPX_ret</th>\n",
       "      <th>Overshoot_historical_VaR</th>\n",
       "      <th>Overshoot_parametric_VaR</th>\n",
       "      <th>Overshoot_MC_simulated_VaR</th>\n",
       "      <th>Overshoot_MC_simulated_fattailed_VaR</th>\n",
       "    </tr>\n",
       "    <tr>\n",
       "      <th>Date</th>\n",
       "      <th></th>\n",
       "      <th></th>\n",
       "      <th></th>\n",
       "      <th></th>\n",
       "      <th></th>\n",
       "      <th></th>\n",
       "      <th></th>\n",
       "      <th></th>\n",
       "      <th></th>\n",
       "    </tr>\n",
       "  </thead>\n",
       "  <tbody>\n",
       "    <tr>\n",
       "      <th>2020-11-19</th>\n",
       "      <td>0.047974</td>\n",
       "      <td>0.038016</td>\n",
       "      <td>0.038032</td>\n",
       "      <td>0.024828</td>\n",
       "      <td>0.003946</td>\n",
       "      <td>0</td>\n",
       "      <td>0</td>\n",
       "      <td>0</td>\n",
       "      <td>0</td>\n",
       "    </tr>\n",
       "    <tr>\n",
       "      <th>2020-11-20</th>\n",
       "      <td>0.047974</td>\n",
       "      <td>0.037932</td>\n",
       "      <td>0.037710</td>\n",
       "      <td>0.024148</td>\n",
       "      <td>-0.006793</td>\n",
       "      <td>0</td>\n",
       "      <td>0</td>\n",
       "      <td>0</td>\n",
       "      <td>0</td>\n",
       "    </tr>\n",
       "    <tr>\n",
       "      <th>2020-11-23</th>\n",
       "      <td>0.047974</td>\n",
       "      <td>0.037933</td>\n",
       "      <td>0.037817</td>\n",
       "      <td>0.024390</td>\n",
       "      <td>0.005636</td>\n",
       "      <td>0</td>\n",
       "      <td>0</td>\n",
       "      <td>0</td>\n",
       "      <td>0</td>\n",
       "    </tr>\n",
       "    <tr>\n",
       "      <th>2020-11-24</th>\n",
       "      <td>0.047974</td>\n",
       "      <td>0.037926</td>\n",
       "      <td>0.037908</td>\n",
       "      <td>0.025180</td>\n",
       "      <td>0.016162</td>\n",
       "      <td>0</td>\n",
       "      <td>0</td>\n",
       "      <td>0</td>\n",
       "      <td>0</td>\n",
       "    </tr>\n",
       "    <tr>\n",
       "      <th>2020-11-25</th>\n",
       "      <td>0.047974</td>\n",
       "      <td>0.037934</td>\n",
       "      <td>0.038000</td>\n",
       "      <td>0.024575</td>\n",
       "      <td>-0.001584</td>\n",
       "      <td>0</td>\n",
       "      <td>0</td>\n",
       "      <td>0</td>\n",
       "      <td>0</td>\n",
       "    </tr>\n",
       "  </tbody>\n",
       "</table>\n",
       "</div>"
      ],
      "text/plain": [
       "            Historical VaR  Parametric VaR  MC simulated VaR  \\\n",
       "Date                                                           \n",
       "2020-11-19        0.047974        0.038016          0.038032   \n",
       "2020-11-20        0.047974        0.037932          0.037710   \n",
       "2020-11-23        0.047974        0.037933          0.037817   \n",
       "2020-11-24        0.047974        0.037926          0.037908   \n",
       "2020-11-25        0.047974        0.037934          0.038000   \n",
       "\n",
       "            MC simulated fat-tailed VaR   SPX_ret  Overshoot_historical_VaR  \\\n",
       "Date                                                                          \n",
       "2020-11-19                     0.024828  0.003946                         0   \n",
       "2020-11-20                     0.024148 -0.006793                         0   \n",
       "2020-11-23                     0.024390  0.005636                         0   \n",
       "2020-11-24                     0.025180  0.016162                         0   \n",
       "2020-11-25                     0.024575 -0.001584                         0   \n",
       "\n",
       "            Overshoot_parametric_VaR  Overshoot_MC_simulated_VaR  \\\n",
       "Date                                                               \n",
       "2020-11-19                         0                           0   \n",
       "2020-11-20                         0                           0   \n",
       "2020-11-23                         0                           0   \n",
       "2020-11-24                         0                           0   \n",
       "2020-11-25                         0                           0   \n",
       "\n",
       "            Overshoot_MC_simulated_fattailed_VaR  \n",
       "Date                                              \n",
       "2020-11-19                                     0  \n",
       "2020-11-20                                     0  \n",
       "2020-11-23                                     0  \n",
       "2020-11-24                                     0  \n",
       "2020-11-25                                     0  "
      ]
     },
     "execution_count": 22,
     "metadata": {},
     "output_type": "execute_result"
    }
   ],
   "source": [
    "back_testing = VaR.iloc[:-1]\n",
    "back_testing.head()\n",
    "back_testing['SPX_ret'] = spx_ret.iloc[520:-1].values\n",
    "back_testing['Overshoot_historical_VaR'] = [1 if -back_testing.loc[i, 'Historical VaR']>back_testing.loc[i, 'SPX_ret'] else 0 for i in back_testing.index]\n",
    "back_testing['Overshoot_parametric_VaR'] = [1 if -back_testing.loc[i, 'Parametric VaR']>back_testing.loc[i, 'SPX_ret'] else 0 for i in back_testing.index]\n",
    "back_testing['Overshoot_MC_simulated_VaR'] = [1 if -back_testing.loc[i, 'MC simulated VaR']>back_testing.loc[i, 'SPX_ret'] else 0 for i in back_testing.index]\n",
    "back_testing['Overshoot_MC_simulated_fattailed_VaR'] = [1 if -back_testing.loc[i, 'MC simulated fat-tailed VaR']>back_testing.loc[i, 'SPX_ret'] else 0 for i in back_testing.index]\n",
    "back_testing.tail()"
   ]
  },
  {
   "cell_type": "code",
   "execution_count": 23,
   "metadata": {},
   "outputs": [
    {
     "data": {
      "text/plain": [
       "11"
      ]
     },
     "execution_count": 23,
     "metadata": {},
     "output_type": "execute_result"
    }
   ],
   "source": [
    "back_testing['Overshoot_historical_VaR']['2020'].sum()"
   ]
  },
  {
   "cell_type": "code",
   "execution_count": 24,
   "metadata": {},
   "outputs": [
    {
     "data": {
      "text/plain": [
       "272"
      ]
     },
     "execution_count": 24,
     "metadata": {},
     "output_type": "execute_result"
    }
   ],
   "source": [
    "back_testing['Overshoot_parametric_VaR'].sum()"
   ]
  },
  {
   "cell_type": "code",
   "execution_count": 25,
   "metadata": {},
   "outputs": [
    {
     "data": {
      "text/plain": [
       "269"
      ]
     },
     "execution_count": 25,
     "metadata": {},
     "output_type": "execute_result"
    }
   ],
   "source": [
    "back_testing['Overshoot_MC_simulated_VaR'].sum()"
   ]
  },
  {
   "cell_type": "code",
   "execution_count": 26,
   "metadata": {},
   "outputs": [
    {
     "data": {
      "text/plain": [
       "25"
      ]
     },
     "execution_count": 26,
     "metadata": {},
     "output_type": "execute_result"
    }
   ],
   "source": [
    "back_testing['Overshoot_MC_simulated_fattailed_VaR']['2020'].sum()"
   ]
  },
  {
   "cell_type": "code",
   "execution_count": 27,
   "metadata": {},
   "outputs": [
    {
     "data": {
      "text/plain": [
       "<matplotlib.axes._subplots.AxesSubplot at 0x2a55191e288>"
      ]
     },
     "execution_count": 27,
     "metadata": {},
     "output_type": "execute_result"
    },
    {
     "data": {
      "image/png": "[encoded data removed]",
      "text/plain": [
       "<Figure size 432x288 with 1 Axes>"
      ]
     },
     "metadata": {
      "needs_background": "light"
     },
     "output_type": "display_data"
    }
   ],
   "source": [
    "back_testing[['Historical VaR','Parametric VaR', 'MC simulated fat-tailed VaR', 'SPX_ret']]['2020'].plot()"
   ]
  },
  {
   "cell_type": "markdown",
   "metadata": {},
   "source": [
    "##### CVaR"
   ]
  },
  {
   "cell_type": "code",
   "execution_count": 28,
   "metadata": {},
   "outputs": [
    {
     "data": {
      "text/plain": [
       "4.325822612796965"
      ]
     },
     "execution_count": 28,
     "metadata": {},
     "output_type": "execute_result"
    }
   ],
   "source": [
    "beyond_var = spx_ret <= np.percentile(spx_ret, 1)\n",
    "(-spx_ret[beyond_var].mean())*100"
   ]
  },
  {
   "cell_type": "code",
   "execution_count": 29,
   "metadata": {},
   "outputs": [],
   "source": [
    "def cvar(ret):\n",
    "    beyond_var = ret <= np.percentile(ret, 1)\n",
    "    return (-ret[beyond_var].mean())*100"
   ]
  },
  {
   "cell_type": "code",
   "execution_count": 30,
   "metadata": {},
   "outputs": [
    {
     "data": {
      "text/plain": [
       "<matplotlib.axes._subplots.AxesSubplot at 0x2a551b0b688>"
      ]
     },
     "execution_count": 30,
     "metadata": {},
     "output_type": "execute_result"
    },
    {
     "data": {
      "image/png": "[encoded data removed]",
      "text/plain": [
       "<Figure size 432x288 with 1 Axes>"
      ]
     },
     "metadata": {
      "needs_background": "light"
     },
     "output_type": "display_data"
    }
   ],
   "source": [
    "spx_ret.rolling(520).apply(cvar).plot()"
   ]
  },
  {
   "cell_type": "code",
   "execution_count": 31,
   "metadata": {},
   "outputs": [
    {
     "data": {
      "text/html": [
       "<div>\n",
       "<style scoped>\n",
       "    .dataframe tbody tr th:only-of-type {\n",
       "        vertical-align: middle;\n",
       "    }\n",
       "\n",
       "    .dataframe tbody tr th {\n",
       "        vertical-align: top;\n",
       "    }\n",
       "\n",
       "    .dataframe thead th {\n",
       "        text-align: right;\n",
       "    }\n",
       "</style>\n",
       "<table border=\"1\" class=\"dataframe\">\n",
       "  <thead>\n",
       "    <tr style=\"text-align: right;\">\n",
       "      <th></th>\n",
       "      <th>ABF.L</th>\n",
       "      <th>AHT.L</th>\n",
       "      <th>ANTO.L</th>\n",
       "      <th>BA.L</th>\n",
       "      <th>BATS.L</th>\n",
       "      <th>CPG.L</th>\n",
       "      <th>EXPN.L</th>\n",
       "      <th>GVC.L</th>\n",
       "      <th>PRU.L</th>\n",
       "      <th>PSN.L</th>\n",
       "      <th>...</th>\n",
       "      <th>RTO.L</th>\n",
       "      <th>SDR.L</th>\n",
       "      <th>SLA.L</th>\n",
       "      <th>SMIN.L</th>\n",
       "      <th>SPX.L</th>\n",
       "      <th>SSE.L</th>\n",
       "      <th>STJ.L</th>\n",
       "      <th>TSCO.L</th>\n",
       "      <th>VOD.L</th>\n",
       "      <th>WTB.L</th>\n",
       "    </tr>\n",
       "    <tr>\n",
       "      <th>Date</th>\n",
       "      <th></th>\n",
       "      <th></th>\n",
       "      <th></th>\n",
       "      <th></th>\n",
       "      <th></th>\n",
       "      <th></th>\n",
       "      <th></th>\n",
       "      <th></th>\n",
       "      <th></th>\n",
       "      <th></th>\n",
       "      <th></th>\n",
       "      <th></th>\n",
       "      <th></th>\n",
       "      <th></th>\n",
       "      <th></th>\n",
       "      <th></th>\n",
       "      <th></th>\n",
       "      <th></th>\n",
       "      <th></th>\n",
       "      <th></th>\n",
       "      <th></th>\n",
       "    </tr>\n",
       "  </thead>\n",
       "  <tbody>\n",
       "    <tr>\n",
       "      <th>2010-01-05</th>\n",
       "      <td>-0.001217</td>\n",
       "      <td>0.014501</td>\n",
       "      <td>-0.005848</td>\n",
       "      <td>0.016344</td>\n",
       "      <td>-0.005905</td>\n",
       "      <td>-0.002618</td>\n",
       "      <td>-0.015360</td>\n",
       "      <td>0.000000</td>\n",
       "      <td>0.003125</td>\n",
       "      <td>0.003682</td>\n",
       "      <td>...</td>\n",
       "      <td>-0.006024</td>\n",
       "      <td>-0.008142</td>\n",
       "      <td>0.022660</td>\n",
       "      <td>-0.028999</td>\n",
       "      <td>0.023700</td>\n",
       "      <td>0.006019</td>\n",
       "      <td>0.031224</td>\n",
       "      <td>-0.018557</td>\n",
       "      <td>-0.001399</td>\n",
       "      <td>-0.001428</td>\n",
       "    </tr>\n",
       "    <tr>\n",
       "      <th>2010-01-06</th>\n",
       "      <td>-0.001218</td>\n",
       "      <td>-0.005360</td>\n",
       "      <td>0.017647</td>\n",
       "      <td>0.012265</td>\n",
       "      <td>0.005940</td>\n",
       "      <td>0.014657</td>\n",
       "      <td>-0.006568</td>\n",
       "      <td>0.007059</td>\n",
       "      <td>0.005452</td>\n",
       "      <td>0.012085</td>\n",
       "      <td>...</td>\n",
       "      <td>-0.004329</td>\n",
       "      <td>-0.022388</td>\n",
       "      <td>-0.002769</td>\n",
       "      <td>-0.015414</td>\n",
       "      <td>-0.002401</td>\n",
       "      <td>0.005128</td>\n",
       "      <td>-0.008050</td>\n",
       "      <td>-0.019979</td>\n",
       "      <td>-0.004189</td>\n",
       "      <td>-0.002146</td>\n",
       "    </tr>\n",
       "    <tr>\n",
       "      <th>2010-01-07</th>\n",
       "      <td>0.022561</td>\n",
       "      <td>0.016168</td>\n",
       "      <td>-0.014451</td>\n",
       "      <td>0.000269</td>\n",
       "      <td>0.006152</td>\n",
       "      <td>-0.015739</td>\n",
       "      <td>-0.006611</td>\n",
       "      <td>0.004673</td>\n",
       "      <td>-0.026336</td>\n",
       "      <td>0.066098</td>\n",
       "      <td>...</td>\n",
       "      <td>0.000869</td>\n",
       "      <td>0.010687</td>\n",
       "      <td>-0.025462</td>\n",
       "      <td>-0.019570</td>\n",
       "      <td>-0.011997</td>\n",
       "      <td>-0.014456</td>\n",
       "      <td>-0.020476</td>\n",
       "      <td>-0.000121</td>\n",
       "      <td>-0.025966</td>\n",
       "      <td>0.000717</td>\n",
       "    </tr>\n",
       "    <tr>\n",
       "      <th>2010-01-08</th>\n",
       "      <td>0.013715</td>\n",
       "      <td>0.050678</td>\n",
       "      <td>0.000978</td>\n",
       "      <td>-0.008076</td>\n",
       "      <td>-0.004647</td>\n",
       "      <td>0.008104</td>\n",
       "      <td>-0.003328</td>\n",
       "      <td>0.030233</td>\n",
       "      <td>0.015911</td>\n",
       "      <td>-0.017400</td>\n",
       "      <td>...</td>\n",
       "      <td>-0.000869</td>\n",
       "      <td>0.008308</td>\n",
       "      <td>0.016150</td>\n",
       "      <td>0.008982</td>\n",
       "      <td>0.051015</td>\n",
       "      <td>0.010354</td>\n",
       "      <td>0.009859</td>\n",
       "      <td>0.009588</td>\n",
       "      <td>-0.012970</td>\n",
       "      <td>0.010745</td>\n",
       "    </tr>\n",
       "    <tr>\n",
       "      <th>2010-01-11</th>\n",
       "      <td>0.004118</td>\n",
       "      <td>0.003926</td>\n",
       "      <td>-0.003907</td>\n",
       "      <td>-0.002985</td>\n",
       "      <td>-0.006143</td>\n",
       "      <td>0.011300</td>\n",
       "      <td>0.002504</td>\n",
       "      <td>0.000000</td>\n",
       "      <td>-0.018794</td>\n",
       "      <td>-0.016690</td>\n",
       "      <td>...</td>\n",
       "      <td>0.019131</td>\n",
       "      <td>-0.011985</td>\n",
       "      <td>-0.013089</td>\n",
       "      <td>0.009891</td>\n",
       "      <td>-0.001545</td>\n",
       "      <td>0.003416</td>\n",
       "      <td>0.054688</td>\n",
       "      <td>0.004568</td>\n",
       "      <td>0.006203</td>\n",
       "      <td>-0.005670</td>\n",
       "    </tr>\n",
       "  </tbody>\n",
       "</table>\n",
       "<p>5 rows × 25 columns</p>\n",
       "</div>"
      ],
      "text/plain": [
       "               ABF.L     AHT.L    ANTO.L      BA.L    BATS.L     CPG.L  \\\n",
       "Date                                                                     \n",
       "2010-01-05 -0.001217  0.014501 -0.005848  0.016344 -0.005905 -0.002618   \n",
       "2010-01-06 -0.001218 -0.005360  0.017647  0.012265  0.005940  0.014657   \n",
       "2010-01-07  0.022561  0.016168 -0.014451  0.000269  0.006152 -0.015739   \n",
       "2010-01-08  0.013715  0.050678  0.000978 -0.008076 -0.004647  0.008104   \n",
       "2010-01-11  0.004118  0.003926 -0.003907 -0.002985 -0.006143  0.011300   \n",
       "\n",
       "              EXPN.L     GVC.L     PRU.L     PSN.L  ...     RTO.L     SDR.L  \\\n",
       "Date                                                ...                       \n",
       "2010-01-05 -0.015360  0.000000  0.003125  0.003682  ... -0.006024 -0.008142   \n",
       "2010-01-06 -0.006568  0.007059  0.005452  0.012085  ... -0.004329 -0.022388   \n",
       "2010-01-07 -0.006611  0.004673 -0.026336  0.066098  ...  0.000869  0.010687   \n",
       "2010-01-08 -0.003328  0.030233  0.015911 -0.017400  ... -0.000869  0.008308   \n",
       "2010-01-11  0.002504  0.000000 -0.018794 -0.016690  ...  0.019131 -0.011985   \n",
       "\n",
       "               SLA.L    SMIN.L     SPX.L     SSE.L     STJ.L    TSCO.L  \\\n",
       "Date                                                                     \n",
       "2010-01-05  0.022660 -0.028999  0.023700  0.006019  0.031224 -0.018557   \n",
       "2010-01-06 -0.002769 -0.015414 -0.002401  0.005128 -0.008050 -0.019979   \n",
       "2010-01-07 -0.025462 -0.019570 -0.011997 -0.014456 -0.020476 -0.000121   \n",
       "2010-01-08  0.016150  0.008982  0.051015  0.010354  0.009859  0.009588   \n",
       "2010-01-11 -0.013089  0.009891 -0.001545  0.003416  0.054688  0.004568   \n",
       "\n",
       "               VOD.L     WTB.L  \n",
       "Date                            \n",
       "2010-01-05 -0.001399 -0.001428  \n",
       "2010-01-06 -0.004189 -0.002146  \n",
       "2010-01-07 -0.025966  0.000717  \n",
       "2010-01-08 -0.012970  0.010745  \n",
       "2010-01-11  0.006203 -0.005670  \n",
       "\n",
       "[5 rows x 25 columns]"
      ]
     },
     "execution_count": 31,
     "metadata": {},
     "output_type": "execute_result"
    }
   ],
   "source": [
    "stocks = ['RDSB.L','VOD.L','EXPN.L','RDSA.L','RTO.L','SSE.L','RMV.L','SPX.L','RB.L','BATS.L','SDR.L','PRU.L','SMIN.L','GVC.L','CPG.L','TSCO.L','SLA.L','STJ.L','AHT.L','ABF.L','BA.L','PSN.L','WTB.L','ANTO.L','RR.L']\n",
    "prices = yf.download(stocks, start='2010-01-01', end='2020-11-30', progress=False)['Adj Close']\n",
    "returns = prices.pct_change().dropna()\n",
    "returns.head()"
   ]
  },
  {
   "cell_type": "markdown",
   "metadata": {},
   "source": [
    "##### Sample covariance"
   ]
  },
  {
   "cell_type": "code",
   "execution_count": 32,
   "metadata": {},
   "outputs": [
    {
     "data": {
      "text/html": [
       "<div>\n",
       "<style scoped>\n",
       "    .dataframe tbody tr th:only-of-type {\n",
       "        vertical-align: middle;\n",
       "    }\n",
       "\n",
       "    .dataframe tbody tr th {\n",
       "        vertical-align: top;\n",
       "    }\n",
       "\n",
       "    .dataframe thead th {\n",
       "        text-align: right;\n",
       "    }\n",
       "</style>\n",
       "<table border=\"1\" class=\"dataframe\">\n",
       "  <thead>\n",
       "    <tr style=\"text-align: right;\">\n",
       "      <th></th>\n",
       "      <th>ABF.L</th>\n",
       "      <th>AHT.L</th>\n",
       "      <th>ANTO.L</th>\n",
       "      <th>BA.L</th>\n",
       "      <th>BATS.L</th>\n",
       "      <th>CPG.L</th>\n",
       "      <th>EXPN.L</th>\n",
       "      <th>GVC.L</th>\n",
       "      <th>PRU.L</th>\n",
       "      <th>PSN.L</th>\n",
       "      <th>...</th>\n",
       "      <th>RTO.L</th>\n",
       "      <th>SDR.L</th>\n",
       "      <th>SLA.L</th>\n",
       "      <th>SMIN.L</th>\n",
       "      <th>SPX.L</th>\n",
       "      <th>SSE.L</th>\n",
       "      <th>STJ.L</th>\n",
       "      <th>TSCO.L</th>\n",
       "      <th>VOD.L</th>\n",
       "      <th>WTB.L</th>\n",
       "    </tr>\n",
       "  </thead>\n",
       "  <tbody>\n",
       "    <tr>\n",
       "      <th>ABF.L</th>\n",
       "      <td>0.000260</td>\n",
       "      <td>0.000135</td>\n",
       "      <td>0.000097</td>\n",
       "      <td>0.000076</td>\n",
       "      <td>0.000077</td>\n",
       "      <td>0.000112</td>\n",
       "      <td>0.000084</td>\n",
       "      <td>0.000069</td>\n",
       "      <td>0.000145</td>\n",
       "      <td>0.000142</td>\n",
       "      <td>...</td>\n",
       "      <td>0.000062</td>\n",
       "      <td>0.000122</td>\n",
       "      <td>0.000133</td>\n",
       "      <td>0.000098</td>\n",
       "      <td>0.000070</td>\n",
       "      <td>0.000083</td>\n",
       "      <td>0.000125</td>\n",
       "      <td>0.000066</td>\n",
       "      <td>0.000084</td>\n",
       "      <td>0.000037</td>\n",
       "    </tr>\n",
       "    <tr>\n",
       "      <th>AHT.L</th>\n",
       "      <td>0.000135</td>\n",
       "      <td>0.000603</td>\n",
       "      <td>0.000268</td>\n",
       "      <td>0.000155</td>\n",
       "      <td>0.000101</td>\n",
       "      <td>0.000150</td>\n",
       "      <td>0.000167</td>\n",
       "      <td>0.000108</td>\n",
       "      <td>0.000262</td>\n",
       "      <td>0.000234</td>\n",
       "      <td>...</td>\n",
       "      <td>0.000161</td>\n",
       "      <td>0.000209</td>\n",
       "      <td>0.000234</td>\n",
       "      <td>0.000213</td>\n",
       "      <td>0.000167</td>\n",
       "      <td>0.000114</td>\n",
       "      <td>0.000220</td>\n",
       "      <td>0.000090</td>\n",
       "      <td>0.000118</td>\n",
       "      <td>0.002033</td>\n",
       "    </tr>\n",
       "    <tr>\n",
       "      <th>ANTO.L</th>\n",
       "      <td>0.000097</td>\n",
       "      <td>0.000268</td>\n",
       "      <td>0.000625</td>\n",
       "      <td>0.000133</td>\n",
       "      <td>0.000089</td>\n",
       "      <td>0.000107</td>\n",
       "      <td>0.000140</td>\n",
       "      <td>0.000070</td>\n",
       "      <td>0.000242</td>\n",
       "      <td>0.000158</td>\n",
       "      <td>...</td>\n",
       "      <td>0.000128</td>\n",
       "      <td>0.000207</td>\n",
       "      <td>0.000207</td>\n",
       "      <td>0.000190</td>\n",
       "      <td>0.000153</td>\n",
       "      <td>0.000098</td>\n",
       "      <td>0.000182</td>\n",
       "      <td>0.000111</td>\n",
       "      <td>0.000104</td>\n",
       "      <td>0.000209</td>\n",
       "    </tr>\n",
       "    <tr>\n",
       "      <th>BA.L</th>\n",
       "      <td>0.000076</td>\n",
       "      <td>0.000155</td>\n",
       "      <td>0.000133</td>\n",
       "      <td>0.000212</td>\n",
       "      <td>0.000070</td>\n",
       "      <td>0.000092</td>\n",
       "      <td>0.000095</td>\n",
       "      <td>0.000065</td>\n",
       "      <td>0.000145</td>\n",
       "      <td>0.000119</td>\n",
       "      <td>...</td>\n",
       "      <td>0.000085</td>\n",
       "      <td>0.000125</td>\n",
       "      <td>0.000130</td>\n",
       "      <td>0.000123</td>\n",
       "      <td>0.000086</td>\n",
       "      <td>0.000071</td>\n",
       "      <td>0.000117</td>\n",
       "      <td>0.000063</td>\n",
       "      <td>0.000080</td>\n",
       "      <td>0.000622</td>\n",
       "    </tr>\n",
       "    <tr>\n",
       "      <th>BATS.L</th>\n",
       "      <td>0.000077</td>\n",
       "      <td>0.000101</td>\n",
       "      <td>0.000089</td>\n",
       "      <td>0.000070</td>\n",
       "      <td>0.000191</td>\n",
       "      <td>0.000085</td>\n",
       "      <td>0.000085</td>\n",
       "      <td>0.000035</td>\n",
       "      <td>0.000099</td>\n",
       "      <td>0.000071</td>\n",
       "      <td>...</td>\n",
       "      <td>0.000065</td>\n",
       "      <td>0.000092</td>\n",
       "      <td>0.000092</td>\n",
       "      <td>0.000080</td>\n",
       "      <td>0.000065</td>\n",
       "      <td>0.000068</td>\n",
       "      <td>0.000086</td>\n",
       "      <td>0.000063</td>\n",
       "      <td>0.000082</td>\n",
       "      <td>-0.000837</td>\n",
       "    </tr>\n",
       "    <tr>\n",
       "      <th>CPG.L</th>\n",
       "      <td>0.000112</td>\n",
       "      <td>0.000150</td>\n",
       "      <td>0.000107</td>\n",
       "      <td>0.000092</td>\n",
       "      <td>0.000085</td>\n",
       "      <td>0.000229</td>\n",
       "      <td>0.000099</td>\n",
       "      <td>0.000067</td>\n",
       "      <td>0.000144</td>\n",
       "      <td>0.000121</td>\n",
       "      <td>...</td>\n",
       "      <td>0.000083</td>\n",
       "      <td>0.000110</td>\n",
       "      <td>0.000127</td>\n",
       "      <td>0.000120</td>\n",
       "      <td>0.000073</td>\n",
       "      <td>0.000077</td>\n",
       "      <td>0.000114</td>\n",
       "      <td>0.000058</td>\n",
       "      <td>0.000084</td>\n",
       "      <td>0.001508</td>\n",
       "    </tr>\n",
       "    <tr>\n",
       "      <th>EXPN.L</th>\n",
       "      <td>0.000084</td>\n",
       "      <td>0.000167</td>\n",
       "      <td>0.000140</td>\n",
       "      <td>0.000095</td>\n",
       "      <td>0.000085</td>\n",
       "      <td>0.000099</td>\n",
       "      <td>0.000216</td>\n",
       "      <td>0.000066</td>\n",
       "      <td>0.000144</td>\n",
       "      <td>0.000121</td>\n",
       "      <td>...</td>\n",
       "      <td>0.000115</td>\n",
       "      <td>0.000129</td>\n",
       "      <td>0.000135</td>\n",
       "      <td>0.000126</td>\n",
       "      <td>0.000107</td>\n",
       "      <td>0.000083</td>\n",
       "      <td>0.000126</td>\n",
       "      <td>0.000071</td>\n",
       "      <td>0.000084</td>\n",
       "      <td>0.001616</td>\n",
       "    </tr>\n",
       "    <tr>\n",
       "      <th>GVC.L</th>\n",
       "      <td>0.000069</td>\n",
       "      <td>0.000108</td>\n",
       "      <td>0.000070</td>\n",
       "      <td>0.000065</td>\n",
       "      <td>0.000035</td>\n",
       "      <td>0.000067</td>\n",
       "      <td>0.000066</td>\n",
       "      <td>0.000527</td>\n",
       "      <td>0.000129</td>\n",
       "      <td>0.000125</td>\n",
       "      <td>...</td>\n",
       "      <td>0.000057</td>\n",
       "      <td>0.000081</td>\n",
       "      <td>0.000112</td>\n",
       "      <td>0.000098</td>\n",
       "      <td>0.000046</td>\n",
       "      <td>0.000067</td>\n",
       "      <td>0.000090</td>\n",
       "      <td>0.000026</td>\n",
       "      <td>0.000047</td>\n",
       "      <td>-0.001066</td>\n",
       "    </tr>\n",
       "    <tr>\n",
       "      <th>PRU.L</th>\n",
       "      <td>0.000145</td>\n",
       "      <td>0.000262</td>\n",
       "      <td>0.000242</td>\n",
       "      <td>0.000145</td>\n",
       "      <td>0.000099</td>\n",
       "      <td>0.000144</td>\n",
       "      <td>0.000144</td>\n",
       "      <td>0.000129</td>\n",
       "      <td>0.000425</td>\n",
       "      <td>0.000220</td>\n",
       "      <td>...</td>\n",
       "      <td>0.000132</td>\n",
       "      <td>0.000229</td>\n",
       "      <td>0.000268</td>\n",
       "      <td>0.000194</td>\n",
       "      <td>0.000131</td>\n",
       "      <td>0.000120</td>\n",
       "      <td>0.000239</td>\n",
       "      <td>0.000103</td>\n",
       "      <td>0.000133</td>\n",
       "      <td>0.001158</td>\n",
       "    </tr>\n",
       "    <tr>\n",
       "      <th>PSN.L</th>\n",
       "      <td>0.000142</td>\n",
       "      <td>0.000234</td>\n",
       "      <td>0.000158</td>\n",
       "      <td>0.000119</td>\n",
       "      <td>0.000071</td>\n",
       "      <td>0.000121</td>\n",
       "      <td>0.000121</td>\n",
       "      <td>0.000125</td>\n",
       "      <td>0.000220</td>\n",
       "      <td>0.000489</td>\n",
       "      <td>...</td>\n",
       "      <td>0.000116</td>\n",
       "      <td>0.000192</td>\n",
       "      <td>0.000218</td>\n",
       "      <td>0.000155</td>\n",
       "      <td>0.000112</td>\n",
       "      <td>0.000119</td>\n",
       "      <td>0.000206</td>\n",
       "      <td>0.000092</td>\n",
       "      <td>0.000101</td>\n",
       "      <td>0.001574</td>\n",
       "    </tr>\n",
       "    <tr>\n",
       "      <th>RB.L</th>\n",
       "      <td>0.000058</td>\n",
       "      <td>0.000075</td>\n",
       "      <td>0.000071</td>\n",
       "      <td>0.000057</td>\n",
       "      <td>0.000076</td>\n",
       "      <td>0.000057</td>\n",
       "      <td>0.000075</td>\n",
       "      <td>0.000023</td>\n",
       "      <td>0.000067</td>\n",
       "      <td>0.000049</td>\n",
       "      <td>...</td>\n",
       "      <td>0.000063</td>\n",
       "      <td>0.000072</td>\n",
       "      <td>0.000061</td>\n",
       "      <td>0.000064</td>\n",
       "      <td>0.000058</td>\n",
       "      <td>0.000054</td>\n",
       "      <td>0.000065</td>\n",
       "      <td>0.000050</td>\n",
       "      <td>0.000063</td>\n",
       "      <td>0.000459</td>\n",
       "    </tr>\n",
       "    <tr>\n",
       "      <th>RDSA.L</th>\n",
       "      <td>0.000094</td>\n",
       "      <td>0.000168</td>\n",
       "      <td>0.000208</td>\n",
       "      <td>0.000099</td>\n",
       "      <td>0.000087</td>\n",
       "      <td>0.000111</td>\n",
       "      <td>0.000107</td>\n",
       "      <td>0.000068</td>\n",
       "      <td>0.000181</td>\n",
       "      <td>0.000108</td>\n",
       "      <td>...</td>\n",
       "      <td>0.000078</td>\n",
       "      <td>0.000134</td>\n",
       "      <td>0.000155</td>\n",
       "      <td>0.000149</td>\n",
       "      <td>0.000088</td>\n",
       "      <td>0.000091</td>\n",
       "      <td>0.000129</td>\n",
       "      <td>0.000076</td>\n",
       "      <td>0.000104</td>\n",
       "      <td>0.001053</td>\n",
       "    </tr>\n",
       "    <tr>\n",
       "      <th>RDSB.L</th>\n",
       "      <td>0.000099</td>\n",
       "      <td>0.000175</td>\n",
       "      <td>0.000214</td>\n",
       "      <td>0.000104</td>\n",
       "      <td>0.000091</td>\n",
       "      <td>0.000117</td>\n",
       "      <td>0.000113</td>\n",
       "      <td>0.000075</td>\n",
       "      <td>0.000190</td>\n",
       "      <td>0.000116</td>\n",
       "      <td>...</td>\n",
       "      <td>0.000083</td>\n",
       "      <td>0.000138</td>\n",
       "      <td>0.000164</td>\n",
       "      <td>0.000156</td>\n",
       "      <td>0.000091</td>\n",
       "      <td>0.000097</td>\n",
       "      <td>0.000136</td>\n",
       "      <td>0.000078</td>\n",
       "      <td>0.000107</td>\n",
       "      <td>0.000965</td>\n",
       "    </tr>\n",
       "    <tr>\n",
       "      <th>RMV.L</th>\n",
       "      <td>0.000100</td>\n",
       "      <td>0.000155</td>\n",
       "      <td>0.000100</td>\n",
       "      <td>0.000090</td>\n",
       "      <td>0.000067</td>\n",
       "      <td>0.000084</td>\n",
       "      <td>0.000105</td>\n",
       "      <td>0.000066</td>\n",
       "      <td>0.000136</td>\n",
       "      <td>0.000180</td>\n",
       "      <td>...</td>\n",
       "      <td>0.000100</td>\n",
       "      <td>0.000134</td>\n",
       "      <td>0.000132</td>\n",
       "      <td>0.000108</td>\n",
       "      <td>0.000124</td>\n",
       "      <td>0.000080</td>\n",
       "      <td>0.000144</td>\n",
       "      <td>0.000067</td>\n",
       "      <td>0.000078</td>\n",
       "      <td>0.000285</td>\n",
       "    </tr>\n",
       "    <tr>\n",
       "      <th>RR.L</th>\n",
       "      <td>0.000155</td>\n",
       "      <td>0.000244</td>\n",
       "      <td>0.000194</td>\n",
       "      <td>0.000160</td>\n",
       "      <td>0.000095</td>\n",
       "      <td>0.000201</td>\n",
       "      <td>0.000119</td>\n",
       "      <td>0.000104</td>\n",
       "      <td>0.000246</td>\n",
       "      <td>0.000179</td>\n",
       "      <td>...</td>\n",
       "      <td>0.000085</td>\n",
       "      <td>0.000172</td>\n",
       "      <td>0.000217</td>\n",
       "      <td>0.000195</td>\n",
       "      <td>0.000120</td>\n",
       "      <td>0.000099</td>\n",
       "      <td>0.000184</td>\n",
       "      <td>0.000082</td>\n",
       "      <td>0.000129</td>\n",
       "      <td>-0.001341</td>\n",
       "    </tr>\n",
       "    <tr>\n",
       "      <th>RTO.L</th>\n",
       "      <td>0.000062</td>\n",
       "      <td>0.000161</td>\n",
       "      <td>0.000128</td>\n",
       "      <td>0.000085</td>\n",
       "      <td>0.000065</td>\n",
       "      <td>0.000083</td>\n",
       "      <td>0.000115</td>\n",
       "      <td>0.000057</td>\n",
       "      <td>0.000132</td>\n",
       "      <td>0.000116</td>\n",
       "      <td>...</td>\n",
       "      <td>0.000254</td>\n",
       "      <td>0.000123</td>\n",
       "      <td>0.000120</td>\n",
       "      <td>0.000110</td>\n",
       "      <td>0.000105</td>\n",
       "      <td>0.000067</td>\n",
       "      <td>0.000124</td>\n",
       "      <td>0.000053</td>\n",
       "      <td>0.000068</td>\n",
       "      <td>0.000609</td>\n",
       "    </tr>\n",
       "    <tr>\n",
       "      <th>SDR.L</th>\n",
       "      <td>0.000122</td>\n",
       "      <td>0.000209</td>\n",
       "      <td>0.000207</td>\n",
       "      <td>0.000125</td>\n",
       "      <td>0.000092</td>\n",
       "      <td>0.000110</td>\n",
       "      <td>0.000129</td>\n",
       "      <td>0.000081</td>\n",
       "      <td>0.000229</td>\n",
       "      <td>0.000192</td>\n",
       "      <td>...</td>\n",
       "      <td>0.000123</td>\n",
       "      <td>0.000320</td>\n",
       "      <td>0.000221</td>\n",
       "      <td>0.000151</td>\n",
       "      <td>0.000129</td>\n",
       "      <td>0.000098</td>\n",
       "      <td>0.000213</td>\n",
       "      <td>0.000100</td>\n",
       "      <td>0.000118</td>\n",
       "      <td>0.000945</td>\n",
       "    </tr>\n",
       "    <tr>\n",
       "      <th>SLA.L</th>\n",
       "      <td>0.000133</td>\n",
       "      <td>0.000234</td>\n",
       "      <td>0.000207</td>\n",
       "      <td>0.000130</td>\n",
       "      <td>0.000092</td>\n",
       "      <td>0.000127</td>\n",
       "      <td>0.000135</td>\n",
       "      <td>0.000112</td>\n",
       "      <td>0.000268</td>\n",
       "      <td>0.000218</td>\n",
       "      <td>...</td>\n",
       "      <td>0.000120</td>\n",
       "      <td>0.000221</td>\n",
       "      <td>0.000376</td>\n",
       "      <td>0.000168</td>\n",
       "      <td>0.000125</td>\n",
       "      <td>0.000124</td>\n",
       "      <td>0.000226</td>\n",
       "      <td>0.000105</td>\n",
       "      <td>0.000123</td>\n",
       "      <td>0.001053</td>\n",
       "    </tr>\n",
       "    <tr>\n",
       "      <th>SMIN.L</th>\n",
       "      <td>0.000098</td>\n",
       "      <td>0.000213</td>\n",
       "      <td>0.000190</td>\n",
       "      <td>0.000123</td>\n",
       "      <td>0.000080</td>\n",
       "      <td>0.000120</td>\n",
       "      <td>0.000126</td>\n",
       "      <td>0.000098</td>\n",
       "      <td>0.000194</td>\n",
       "      <td>0.000155</td>\n",
       "      <td>...</td>\n",
       "      <td>0.000110</td>\n",
       "      <td>0.000151</td>\n",
       "      <td>0.000168</td>\n",
       "      <td>0.000280</td>\n",
       "      <td>0.000119</td>\n",
       "      <td>0.000090</td>\n",
       "      <td>0.000151</td>\n",
       "      <td>0.000079</td>\n",
       "      <td>0.000094</td>\n",
       "      <td>0.000126</td>\n",
       "    </tr>\n",
       "    <tr>\n",
       "      <th>SPX.L</th>\n",
       "      <td>0.000070</td>\n",
       "      <td>0.000167</td>\n",
       "      <td>0.000153</td>\n",
       "      <td>0.000086</td>\n",
       "      <td>0.000065</td>\n",
       "      <td>0.000073</td>\n",
       "      <td>0.000107</td>\n",
       "      <td>0.000046</td>\n",
       "      <td>0.000131</td>\n",
       "      <td>0.000112</td>\n",
       "      <td>...</td>\n",
       "      <td>0.000105</td>\n",
       "      <td>0.000129</td>\n",
       "      <td>0.000125</td>\n",
       "      <td>0.000119</td>\n",
       "      <td>0.000238</td>\n",
       "      <td>0.000060</td>\n",
       "      <td>0.000133</td>\n",
       "      <td>0.000062</td>\n",
       "      <td>0.000066</td>\n",
       "      <td>0.000376</td>\n",
       "    </tr>\n",
       "    <tr>\n",
       "      <th>SSE.L</th>\n",
       "      <td>0.000083</td>\n",
       "      <td>0.000114</td>\n",
       "      <td>0.000098</td>\n",
       "      <td>0.000071</td>\n",
       "      <td>0.000068</td>\n",
       "      <td>0.000077</td>\n",
       "      <td>0.000083</td>\n",
       "      <td>0.000067</td>\n",
       "      <td>0.000120</td>\n",
       "      <td>0.000119</td>\n",
       "      <td>...</td>\n",
       "      <td>0.000067</td>\n",
       "      <td>0.000098</td>\n",
       "      <td>0.000124</td>\n",
       "      <td>0.000090</td>\n",
       "      <td>0.000060</td>\n",
       "      <td>0.000183</td>\n",
       "      <td>0.000104</td>\n",
       "      <td>0.000063</td>\n",
       "      <td>0.000074</td>\n",
       "      <td>0.000526</td>\n",
       "    </tr>\n",
       "    <tr>\n",
       "      <th>STJ.L</th>\n",
       "      <td>0.000125</td>\n",
       "      <td>0.000220</td>\n",
       "      <td>0.000182</td>\n",
       "      <td>0.000117</td>\n",
       "      <td>0.000086</td>\n",
       "      <td>0.000114</td>\n",
       "      <td>0.000126</td>\n",
       "      <td>0.000090</td>\n",
       "      <td>0.000239</td>\n",
       "      <td>0.000206</td>\n",
       "      <td>...</td>\n",
       "      <td>0.000124</td>\n",
       "      <td>0.000213</td>\n",
       "      <td>0.000226</td>\n",
       "      <td>0.000151</td>\n",
       "      <td>0.000133</td>\n",
       "      <td>0.000104</td>\n",
       "      <td>0.000342</td>\n",
       "      <td>0.000101</td>\n",
       "      <td>0.000111</td>\n",
       "      <td>0.000080</td>\n",
       "    </tr>\n",
       "    <tr>\n",
       "      <th>TSCO.L</th>\n",
       "      <td>0.000066</td>\n",
       "      <td>0.000090</td>\n",
       "      <td>0.000111</td>\n",
       "      <td>0.000063</td>\n",
       "      <td>0.000063</td>\n",
       "      <td>0.000058</td>\n",
       "      <td>0.000071</td>\n",
       "      <td>0.000026</td>\n",
       "      <td>0.000103</td>\n",
       "      <td>0.000092</td>\n",
       "      <td>...</td>\n",
       "      <td>0.000053</td>\n",
       "      <td>0.000100</td>\n",
       "      <td>0.000105</td>\n",
       "      <td>0.000079</td>\n",
       "      <td>0.000062</td>\n",
       "      <td>0.000063</td>\n",
       "      <td>0.000101</td>\n",
       "      <td>0.000252</td>\n",
       "      <td>0.000072</td>\n",
       "      <td>0.001019</td>\n",
       "    </tr>\n",
       "    <tr>\n",
       "      <th>VOD.L</th>\n",
       "      <td>0.000084</td>\n",
       "      <td>0.000118</td>\n",
       "      <td>0.000104</td>\n",
       "      <td>0.000080</td>\n",
       "      <td>0.000082</td>\n",
       "      <td>0.000084</td>\n",
       "      <td>0.000084</td>\n",
       "      <td>0.000047</td>\n",
       "      <td>0.000133</td>\n",
       "      <td>0.000101</td>\n",
       "      <td>...</td>\n",
       "      <td>0.000068</td>\n",
       "      <td>0.000118</td>\n",
       "      <td>0.000123</td>\n",
       "      <td>0.000094</td>\n",
       "      <td>0.000066</td>\n",
       "      <td>0.000074</td>\n",
       "      <td>0.000111</td>\n",
       "      <td>0.000072</td>\n",
       "      <td>0.000211</td>\n",
       "      <td>0.001029</td>\n",
       "    </tr>\n",
       "    <tr>\n",
       "      <th>WTB.L</th>\n",
       "      <td>0.000037</td>\n",
       "      <td>0.002033</td>\n",
       "      <td>0.000209</td>\n",
       "      <td>0.000622</td>\n",
       "      <td>-0.000837</td>\n",
       "      <td>0.001508</td>\n",
       "      <td>0.001616</td>\n",
       "      <td>-0.001066</td>\n",
       "      <td>0.001158</td>\n",
       "      <td>0.001574</td>\n",
       "      <td>...</td>\n",
       "      <td>0.000609</td>\n",
       "      <td>0.000945</td>\n",
       "      <td>0.001053</td>\n",
       "      <td>0.000126</td>\n",
       "      <td>0.000376</td>\n",
       "      <td>0.000526</td>\n",
       "      <td>0.000080</td>\n",
       "      <td>0.001019</td>\n",
       "      <td>0.001029</td>\n",
       "      <td>7.389993</td>\n",
       "    </tr>\n",
       "  </tbody>\n",
       "</table>\n",
       "<p>25 rows × 25 columns</p>\n",
       "</div>"
      ],
      "text/plain": [
       "           ABF.L     AHT.L    ANTO.L      BA.L    BATS.L     CPG.L    EXPN.L  \\\n",
       "ABF.L   0.000260  0.000135  0.000097  0.000076  0.000077  0.000112  0.000084   \n",
       "AHT.L   0.000135  0.000603  0.000268  0.000155  0.000101  0.000150  0.000167   \n",
       "ANTO.L  0.000097  0.000268  0.000625  0.000133  0.000089  0.000107  0.000140   \n",
       "BA.L    0.000076  0.000155  0.000133  0.000212  0.000070  0.000092  0.000095   \n",
       "BATS.L  0.000077  0.000101  0.000089  0.000070  0.000191  0.000085  0.000085   \n",
       "CPG.L   0.000112  0.000150  0.000107  0.000092  0.000085  0.000229  0.000099   \n",
       "EXPN.L  0.000084  0.000167  0.000140  0.000095  0.000085  0.000099  0.000216   \n",
       "GVC.L   0.000069  0.000108  0.000070  0.000065  0.000035  0.000067  0.000066   \n",
       "PRU.L   0.000145  0.000262  0.000242  0.000145  0.000099  0.000144  0.000144   \n",
       "PSN.L   0.000142  0.000234  0.000158  0.000119  0.000071  0.000121  0.000121   \n",
       "RB.L    0.000058  0.000075  0.000071  0.000057  0.000076  0.000057  0.000075   \n",
       "RDSA.L  0.000094  0.000168  0.000208  0.000099  0.000087  0.000111  0.000107   \n",
       "RDSB.L  0.000099  0.000175  0.000214  0.000104  0.000091  0.000117  0.000113   \n",
       "RMV.L   0.000100  0.000155  0.000100  0.000090  0.000067  0.000084  0.000105   \n",
       "RR.L    0.000155  0.000244  0.000194  0.000160  0.000095  0.000201  0.000119   \n",
       "RTO.L   0.000062  0.000161  0.000128  0.000085  0.000065  0.000083  0.000115   \n",
       "SDR.L   0.000122  0.000209  0.000207  0.000125  0.000092  0.000110  0.000129   \n",
       "SLA.L   0.000133  0.000234  0.000207  0.000130  0.000092  0.000127  0.000135   \n",
       "SMIN.L  0.000098  0.000213  0.000190  0.000123  0.000080  0.000120  0.000126   \n",
       "SPX.L   0.000070  0.000167  0.000153  0.000086  0.000065  0.000073  0.000107   \n",
       "SSE.L   0.000083  0.000114  0.000098  0.000071  0.000068  0.000077  0.000083   \n",
       "STJ.L   0.000125  0.000220  0.000182  0.000117  0.000086  0.000114  0.000126   \n",
       "TSCO.L  0.000066  0.000090  0.000111  0.000063  0.000063  0.000058  0.000071   \n",
       "VOD.L   0.000084  0.000118  0.000104  0.000080  0.000082  0.000084  0.000084   \n",
       "WTB.L   0.000037  0.002033  0.000209  0.000622 -0.000837  0.001508  0.001616   \n",
       "\n",
       "           GVC.L     PRU.L     PSN.L  ...     RTO.L     SDR.L     SLA.L  \\\n",
       "ABF.L   0.000069  0.000145  0.000142  ...  0.000062  0.000122  0.000133   \n",
       "AHT.L   0.000108  0.000262  0.000234  ...  0.000161  0.000209  0.000234   \n",
       "ANTO.L  0.000070  0.000242  0.000158  ...  0.000128  0.000207  0.000207   \n",
       "BA.L    0.000065  0.000145  0.000119  ...  0.000085  0.000125  0.000130   \n",
       "BATS.L  0.000035  0.000099  0.000071  ...  0.000065  0.000092  0.000092   \n",
       "CPG.L   0.000067  0.000144  0.000121  ...  0.000083  0.000110  0.000127   \n",
       "EXPN.L  0.000066  0.000144  0.000121  ...  0.000115  0.000129  0.000135   \n",
       "GVC.L   0.000527  0.000129  0.000125  ...  0.000057  0.000081  0.000112   \n",
       "PRU.L   0.000129  0.000425  0.000220  ...  0.000132  0.000229  0.000268   \n",
       "PSN.L   0.000125  0.000220  0.000489  ...  0.000116  0.000192  0.000218   \n",
       "RB.L    0.000023  0.000067  0.000049  ...  0.000063  0.000072  0.000061   \n",
       "RDSA.L  0.000068  0.000181  0.000108  ...  0.000078  0.000134  0.000155   \n",
       "RDSB.L  0.000075  0.000190  0.000116  ...  0.000083  0.000138  0.000164   \n",
       "RMV.L   0.000066  0.000136  0.000180  ...  0.000100  0.000134  0.000132   \n",
       "RR.L    0.000104  0.000246  0.000179  ...  0.000085  0.000172  0.000217   \n",
       "RTO.L   0.000057  0.000132  0.000116  ...  0.000254  0.000123  0.000120   \n",
       "SDR.L   0.000081  0.000229  0.000192  ...  0.000123  0.000320  0.000221   \n",
       "SLA.L   0.000112  0.000268  0.000218  ...  0.000120  0.000221  0.000376   \n",
       "SMIN.L  0.000098  0.000194  0.000155  ...  0.000110  0.000151  0.000168   \n",
       "SPX.L   0.000046  0.000131  0.000112  ...  0.000105  0.000129  0.000125   \n",
       "SSE.L   0.000067  0.000120  0.000119  ...  0.000067  0.000098  0.000124   \n",
       "STJ.L   0.000090  0.000239  0.000206  ...  0.000124  0.000213  0.000226   \n",
       "TSCO.L  0.000026  0.000103  0.000092  ...  0.000053  0.000100  0.000105   \n",
       "VOD.L   0.000047  0.000133  0.000101  ...  0.000068  0.000118  0.000123   \n",
       "WTB.L  -0.001066  0.001158  0.001574  ...  0.000609  0.000945  0.001053   \n",
       "\n",
       "          SMIN.L     SPX.L     SSE.L     STJ.L    TSCO.L     VOD.L     WTB.L  \n",
       "ABF.L   0.000098  0.000070  0.000083  0.000125  0.000066  0.000084  0.000037  \n",
       "AHT.L   0.000213  0.000167  0.000114  0.000220  0.000090  0.000118  0.002033  \n",
       "ANTO.L  0.000190  0.000153  0.000098  0.000182  0.000111  0.000104  0.000209  \n",
       "BA.L    0.000123  0.000086  0.000071  0.000117  0.000063  0.000080  0.000622  \n",
       "BATS.L  0.000080  0.000065  0.000068  0.000086  0.000063  0.000082 -0.000837  \n",
       "CPG.L   0.000120  0.000073  0.000077  0.000114  0.000058  0.000084  0.001508  \n",
       "EXPN.L  0.000126  0.000107  0.000083  0.000126  0.000071  0.000084  0.001616  \n",
       "GVC.L   0.000098  0.000046  0.000067  0.000090  0.000026  0.000047 -0.001066  \n",
       "PRU.L   0.000194  0.000131  0.000120  0.000239  0.000103  0.000133  0.001158  \n",
       "PSN.L   0.000155  0.000112  0.000119  0.000206  0.000092  0.000101  0.001574  \n",
       "RB.L    0.000064  0.000058  0.000054  0.000065  0.000050  0.000063  0.000459  \n",
       "RDSA.L  0.000149  0.000088  0.000091  0.000129  0.000076  0.000104  0.001053  \n",
       "RDSB.L  0.000156  0.000091  0.000097  0.000136  0.000078  0.000107  0.000965  \n",
       "RMV.L   0.000108  0.000124  0.000080  0.000144  0.000067  0.000078  0.000285  \n",
       "RR.L    0.000195  0.000120  0.000099  0.000184  0.000082  0.000129 -0.001341  \n",
       "RTO.L   0.000110  0.000105  0.000067  0.000124  0.000053  0.000068  0.000609  \n",
       "SDR.L   0.000151  0.000129  0.000098  0.000213  0.000100  0.000118  0.000945  \n",
       "SLA.L   0.000168  0.000125  0.000124  0.000226  0.000105  0.000123  0.001053  \n",
       "SMIN.L  0.000280  0.000119  0.000090  0.000151  0.000079  0.000094  0.000126  \n",
       "SPX.L   0.000119  0.000238  0.000060  0.000133  0.000062  0.000066  0.000376  \n",
       "SSE.L   0.000090  0.000060  0.000183  0.000104  0.000063  0.000074  0.000526  \n",
       "STJ.L   0.000151  0.000133  0.000104  0.000342  0.000101  0.000111  0.000080  \n",
       "TSCO.L  0.000079  0.000062  0.000063  0.000101  0.000252  0.000072  0.001019  \n",
       "VOD.L   0.000094  0.000066  0.000074  0.000111  0.000072  0.000211  0.001029  \n",
       "WTB.L   0.000126  0.000376  0.000526  0.000080  0.001019  0.001029  7.389993  \n",
       "\n",
       "[25 rows x 25 columns]"
      ]
     },
     "execution_count": 32,
     "metadata": {},
     "output_type": "execute_result"
    }
   ],
   "source": [
    "sample_cov = returns.cov()\n",
    "sample_cov"
   ]
  },
  {
   "cell_type": "code",
   "execution_count": 33,
   "metadata": {},
   "outputs": [
    {
     "data": {
      "text/html": [
       "<div>\n",
       "<style scoped>\n",
       "    .dataframe tbody tr th:only-of-type {\n",
       "        vertical-align: middle;\n",
       "    }\n",
       "\n",
       "    .dataframe tbody tr th {\n",
       "        vertical-align: top;\n",
       "    }\n",
       "\n",
       "    .dataframe thead th {\n",
       "        text-align: right;\n",
       "    }\n",
       "</style>\n",
       "<table border=\"1\" class=\"dataframe\">\n",
       "  <thead>\n",
       "    <tr style=\"text-align: right;\">\n",
       "      <th></th>\n",
       "      <th>BATS.L</th>\n",
       "      <th>PRU.L</th>\n",
       "      <th>TSCO.L</th>\n",
       "      <th>RDSB.L</th>\n",
       "      <th>RR.L</th>\n",
       "    </tr>\n",
       "  </thead>\n",
       "  <tbody>\n",
       "    <tr>\n",
       "      <th>BATS.L</th>\n",
       "      <td>0.000191</td>\n",
       "      <td>0.000099</td>\n",
       "      <td>0.000063</td>\n",
       "      <td>0.000091</td>\n",
       "      <td>0.000095</td>\n",
       "    </tr>\n",
       "    <tr>\n",
       "      <th>PRU.L</th>\n",
       "      <td>0.000099</td>\n",
       "      <td>0.000425</td>\n",
       "      <td>0.000103</td>\n",
       "      <td>0.000190</td>\n",
       "      <td>0.000246</td>\n",
       "    </tr>\n",
       "    <tr>\n",
       "      <th>TSCO.L</th>\n",
       "      <td>0.000063</td>\n",
       "      <td>0.000103</td>\n",
       "      <td>0.000252</td>\n",
       "      <td>0.000078</td>\n",
       "      <td>0.000082</td>\n",
       "    </tr>\n",
       "    <tr>\n",
       "      <th>RDSB.L</th>\n",
       "      <td>0.000091</td>\n",
       "      <td>0.000190</td>\n",
       "      <td>0.000078</td>\n",
       "      <td>0.000295</td>\n",
       "      <td>0.000193</td>\n",
       "    </tr>\n",
       "    <tr>\n",
       "      <th>RR.L</th>\n",
       "      <td>0.000095</td>\n",
       "      <td>0.000246</td>\n",
       "      <td>0.000082</td>\n",
       "      <td>0.000193</td>\n",
       "      <td>0.000840</td>\n",
       "    </tr>\n",
       "  </tbody>\n",
       "</table>\n",
       "</div>"
      ],
      "text/plain": [
       "          BATS.L     PRU.L    TSCO.L    RDSB.L      RR.L\n",
       "BATS.L  0.000191  0.000099  0.000063  0.000091  0.000095\n",
       "PRU.L   0.000099  0.000425  0.000103  0.000190  0.000246\n",
       "TSCO.L  0.000063  0.000103  0.000252  0.000078  0.000082\n",
       "RDSB.L  0.000091  0.000190  0.000078  0.000295  0.000193\n",
       "RR.L    0.000095  0.000246  0.000082  0.000193  0.000840"
      ]
     },
     "execution_count": 33,
     "metadata": {},
     "output_type": "execute_result"
    }
   ],
   "source": [
    "symbols = ['BATS.L', 'PRU.L', 'TSCO.L', 'RDSB.L', 'RR.L']\n",
    "sample_cov = sample_cov.loc[symbols,symbols]\n",
    "sample_cov"
   ]
  },
  {
   "cell_type": "markdown",
   "metadata": {},
   "source": [
    "##### Covariance matrix estimate: the Elton/Gruber Constant Correlation model"
   ]
  },
  {
   "cell_type": "code",
   "execution_count": 34,
   "metadata": {},
   "outputs": [
    {
     "data": {
      "text/html": [
       "<div>\n",
       "<style scoped>\n",
       "    .dataframe tbody tr th:only-of-type {\n",
       "        vertical-align: middle;\n",
       "    }\n",
       "\n",
       "    .dataframe tbody tr th {\n",
       "        vertical-align: top;\n",
       "    }\n",
       "\n",
       "    .dataframe thead th {\n",
       "        text-align: right;\n",
       "    }\n",
       "</style>\n",
       "<table border=\"1\" class=\"dataframe\">\n",
       "  <thead>\n",
       "    <tr style=\"text-align: right;\">\n",
       "      <th></th>\n",
       "      <th>BATS.L</th>\n",
       "      <th>PRU.L</th>\n",
       "      <th>TSCO.L</th>\n",
       "      <th>RDSB.L</th>\n",
       "      <th>RR.L</th>\n",
       "    </tr>\n",
       "  </thead>\n",
       "  <tbody>\n",
       "    <tr>\n",
       "      <th>BATS.L</th>\n",
       "      <td>0.000191</td>\n",
       "      <td>0.000096</td>\n",
       "      <td>0.000074</td>\n",
       "      <td>0.000080</td>\n",
       "      <td>0.000135</td>\n",
       "    </tr>\n",
       "    <tr>\n",
       "      <th>PRU.L</th>\n",
       "      <td>0.000096</td>\n",
       "      <td>0.000425</td>\n",
       "      <td>0.000110</td>\n",
       "      <td>0.000119</td>\n",
       "      <td>0.000201</td>\n",
       "    </tr>\n",
       "    <tr>\n",
       "      <th>TSCO.L</th>\n",
       "      <td>0.000074</td>\n",
       "      <td>0.000110</td>\n",
       "      <td>0.000252</td>\n",
       "      <td>0.000092</td>\n",
       "      <td>0.000155</td>\n",
       "    </tr>\n",
       "    <tr>\n",
       "      <th>RDSB.L</th>\n",
       "      <td>0.000080</td>\n",
       "      <td>0.000119</td>\n",
       "      <td>0.000092</td>\n",
       "      <td>0.000295</td>\n",
       "      <td>0.000167</td>\n",
       "    </tr>\n",
       "    <tr>\n",
       "      <th>RR.L</th>\n",
       "      <td>0.000135</td>\n",
       "      <td>0.000201</td>\n",
       "      <td>0.000155</td>\n",
       "      <td>0.000167</td>\n",
       "      <td>0.000840</td>\n",
       "    </tr>\n",
       "  </tbody>\n",
       "</table>\n",
       "</div>"
      ],
      "text/plain": [
       "          BATS.L     PRU.L    TSCO.L    RDSB.L      RR.L\n",
       "BATS.L  0.000191  0.000096  0.000074  0.000080  0.000135\n",
       "PRU.L   0.000096  0.000425  0.000110  0.000119  0.000201\n",
       "TSCO.L  0.000074  0.000110  0.000252  0.000092  0.000155\n",
       "RDSB.L  0.000080  0.000119  0.000092  0.000295  0.000167\n",
       "RR.L    0.000135  0.000201  0.000155  0.000167  0.000840"
      ]
     },
     "execution_count": 34,
     "metadata": {},
     "output_type": "execute_result"
    }
   ],
   "source": [
    "import statsmodels.stats.moment_helpers as mh\n",
    "returns_here = returns[symbols]\n",
    "correlation = returns_here.corr()\n",
    "n = correlation.shape[0]\n",
    "correlation_mean = (correlation.values.sum()-n)/(n*(n-1))\n",
    "constant_cor = np.repeat(correlation_mean,n**2).reshape(n,n)\n",
    "np.fill_diagonal(constant_cor, 1.)\n",
    "vol = returns_here.std()\n",
    "constant_cov = mh.corr2cov(constant_cor, vol)\n",
    "constant_correlation_cov = pd.DataFrame(constant_cov, index=returns_here.columns, columns=returns_here.columns)\n",
    "constant_correlation_cov"
   ]
  },
  {
   "cell_type": "markdown",
   "metadata": {},
   "source": [
    "##### Statistical Shrinkage"
   ]
  },
  {
   "cell_type": "code",
   "execution_count": 35,
   "metadata": {},
   "outputs": [
    {
     "data": {
      "text/html": [
       "<div>\n",
       "<style scoped>\n",
       "    .dataframe tbody tr th:only-of-type {\n",
       "        vertical-align: middle;\n",
       "    }\n",
       "\n",
       "    .dataframe tbody tr th {\n",
       "        vertical-align: top;\n",
       "    }\n",
       "\n",
       "    .dataframe thead th {\n",
       "        text-align: right;\n",
       "    }\n",
       "</style>\n",
       "<table border=\"1\" class=\"dataframe\">\n",
       "  <thead>\n",
       "    <tr style=\"text-align: right;\">\n",
       "      <th></th>\n",
       "      <th>BATS.L</th>\n",
       "      <th>PRU.L</th>\n",
       "      <th>TSCO.L</th>\n",
       "      <th>RDSB.L</th>\n",
       "      <th>RR.L</th>\n",
       "    </tr>\n",
       "  </thead>\n",
       "  <tbody>\n",
       "    <tr>\n",
       "      <th>BATS.L</th>\n",
       "      <td>0.000191</td>\n",
       "      <td>0.000097</td>\n",
       "      <td>0.000068</td>\n",
       "      <td>0.000085</td>\n",
       "      <td>0.000115</td>\n",
       "    </tr>\n",
       "    <tr>\n",
       "      <th>PRU.L</th>\n",
       "      <td>0.000097</td>\n",
       "      <td>0.000425</td>\n",
       "      <td>0.000107</td>\n",
       "      <td>0.000154</td>\n",
       "      <td>0.000224</td>\n",
       "    </tr>\n",
       "    <tr>\n",
       "      <th>TSCO.L</th>\n",
       "      <td>0.000068</td>\n",
       "      <td>0.000107</td>\n",
       "      <td>0.000252</td>\n",
       "      <td>0.000085</td>\n",
       "      <td>0.000118</td>\n",
       "    </tr>\n",
       "    <tr>\n",
       "      <th>RDSB.L</th>\n",
       "      <td>0.000085</td>\n",
       "      <td>0.000154</td>\n",
       "      <td>0.000085</td>\n",
       "      <td>0.000295</td>\n",
       "      <td>0.000180</td>\n",
       "    </tr>\n",
       "    <tr>\n",
       "      <th>RR.L</th>\n",
       "      <td>0.000115</td>\n",
       "      <td>0.000224</td>\n",
       "      <td>0.000118</td>\n",
       "      <td>0.000180</td>\n",
       "      <td>0.000840</td>\n",
       "    </tr>\n",
       "  </tbody>\n",
       "</table>\n",
       "</div>"
      ],
      "text/plain": [
       "          BATS.L     PRU.L    TSCO.L    RDSB.L      RR.L\n",
       "BATS.L  0.000191  0.000097  0.000068  0.000085  0.000115\n",
       "PRU.L   0.000097  0.000425  0.000107  0.000154  0.000224\n",
       "TSCO.L  0.000068  0.000107  0.000252  0.000085  0.000118\n",
       "RDSB.L  0.000085  0.000154  0.000085  0.000295  0.000180\n",
       "RR.L    0.000115  0.000224  0.000118  0.000180  0.000840"
      ]
     },
     "execution_count": 35,
     "metadata": {},
     "output_type": "execute_result"
    }
   ],
   "source": [
    "shrinkage_parameter = 0.5\n",
    "shrinkage_parameter*constant_correlation_cov + (1-shrinkage_parameter)*sample_cov"
   ]
  },
  {
   "cell_type": "markdown",
   "metadata": {},
   "source": [
    "#### Liquidity\n",
    "\n",
    "- Time to liquidate\n",
    "- Cost to liquidate\n",
    "- Liquidation size\n",
    "\n",
    "Important inputs are volumes, bid-ask spreads, position size, participation rate, market elasticity, etc."
   ]
  },
  {
   "cell_type": "code",
   "execution_count": null,
   "metadata": {},
   "outputs": [],
   "source": []
  }
 ],
 "metadata": {
  "kernelspec": {
   "display_name": "Python 3",
   "language": "python",
   "name": "python3"
  },
  "language_info": {
   "codemirror_mode": {
    "name": "ipython",
    "version": 3
   },
   "file_extension": ".py",
   "mimetype": "text/x-python",
   "name": "python",
   "nbconvert_exporter": "python",
   "pygments_lexer": "ipython3",
   "version": "3.7.6"
  }
 },
 "nbformat": 4,
 "nbformat_minor": 4
}
